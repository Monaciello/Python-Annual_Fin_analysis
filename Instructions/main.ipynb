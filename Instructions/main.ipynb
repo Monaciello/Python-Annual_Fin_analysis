{
 "cells": [
  {
   "cell_type": "code",
   "execution_count": 13,
   "metadata": {},
   "outputs": [
    {
     "name": "stdout",
     "output_type": "stream",
     "text": [
      "Total number of months86\n"
     ]
    }
   ],
   "source": [
    "#init imports\n",
    "from pathlib import Path\n",
    "import csv\n",
    "from re import I\n",
    "\n",
    "with open(\"PyBank/Resources/budget_data.csv\") as file:\n",
    "#    print(file.read())      #values are not seperate when printing file\n",
    "     #with creates a nested code block that creates and alias\n",
    "    csvreader =csv.reader(file)\n",
    "    header = next(csvreader)# header will return the first item of the iterable \n",
    "    #then next will return the value of the current row then much the cursor over\n",
    "    i=0\n",
    "    for row in csvreader: #csv reader will automagically \n",
    "       i+=1\n",
    "#        print(row[1])#index in order to return desired row   #uncomment to return the total\n",
    "print(f\"Total number of months{i}\")# this will return the total number of months"
   ]
  }
 ],
 "metadata": {
  "kernelspec": {
   "display_name": "Python 3.9.12 ('base')",
   "language": "python",
   "name": "python3"
  },
  "language_info": {
   "codemirror_mode": {
    "name": "ipython",
    "version": 3
   },
   "file_extension": ".py",
   "mimetype": "text/x-python",
   "name": "python",
   "nbconvert_exporter": "python",
   "pygments_lexer": "ipython3",
   "version": "3.9.12"
  },
  "orig_nbformat": 4,
  "vscode": {
   "interpreter": {
    "hash": "5d2a1d415023e810f4ea2e46877a40f9e0cb6e012f92ce94923d226885e25a9a"
   }
  }
 },
 "nbformat": 4,
 "nbformat_minor": 2
}
