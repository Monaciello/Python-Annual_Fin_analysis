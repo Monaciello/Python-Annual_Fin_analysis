{
 "cells": [
  {
   "cell_type": "code",
   "execution_count": 5,
   "metadata": {},
   "outputs": [
    {
     "name": "stdout",
     "output_type": "stream",
     "text": [
      "Total number of months86\n"
     ]
    }
   ],
   "source": [
    "#init imports\n",
    "\n",
    "from pathlib import Path\n",
    "import csv\n",
    "import os\n",
    "\n",
    "with open(\"PyBank/Resources/budget_data.csv\") as file:\n",
    "#    print(file.read())      #values are not seperate when printing file\n",
    "     #with creates a nested code block that creates and alias\n",
    "    csvreader =csv.reader(file)\n",
    "    header = next(csvreader)# header will return the first item of the iterable \n",
    "    #then next will return the value of the current row then much the cursor over\n",
    "    i=0\n",
    "    total=0\n",
    "    prev_row=0\n",
    "    change=0\n",
    "    min_change=0\n",
    "    max_change=0\n",
    "    min_change_date= None\n",
    "    max_change_date= None\n",
    "    for row in csvreader: #csv reader will automagically \n",
    "        if i !=0:\n",
    "         change=prev_row - float(row[1])\n",
    "        prev_row= float()\n",
    "        i+=1\n",
    "        total += float(row[1])#convert string to integer before casting it to the string total\n",
    "#        print(row[1])#index in order to return desi.\n",
    "# red row   #uncomment to return the total\n",
    "\n",
    "print(f\"Total number of months{i}\")# this will return the total number of months"
   ]
  },
  {
   "cell_type": "code",
   "execution_count": 8,
   "metadata": {},
   "outputs": [
    {
     "name": "stdout",
     "output_type": "stream",
     "text": [
      "\n",
      "Fianncial Analysis \n",
      "---------------------------\n",
      "Total Months 86\n",
      "Total: $38382578.0\n",
      "Average Change: $\n",
      "Greatest Increase in Profits:\n",
      "Greatest Decrease in Profits:\n",
      "Next line.. \n",
      "\n"
     ]
    }
   ],
   "source": [
    "#generate output string\n",
    "output = f\"\"\"\n",
    "Fianncial Analysis \n",
    "---------------------------\n",
    "Total Months {i}\n",
    "Total: ${total}\n",
    "Average Change: $\n",
    "Greatest Increase in Profits:\n",
    "Greatest Decrease in Profits:\n",
    "Next line.. \n",
    "\"\"\"\n",
    "\n",
    "print(output)\n"
   ]
  },
  {
   "cell_type": "code",
   "execution_count": 7,
   "metadata": {},
   "outputs": [],
   "source": [
    "with open (\"output.txt\", \"w\") as file:\n",
    "    file.write(output)\n",
    "#save data output to output.txt to a file"
   ]
  }
 ],
 "metadata": {
  "kernelspec": {
   "display_name": "Python 3.9.12 ('base')",
   "language": "python",
   "name": "python3"
  },
  "language_info": {
   "codemirror_mode": {
    "name": "ipython",
    "version": 3
   },
   "file_extension": ".py",
   "mimetype": "text/x-python",
   "name": "python",
   "nbconvert_exporter": "python",
   "pygments_lexer": "ipython3",
   "version": "3.9.12"
  },
  "orig_nbformat": 4,
  "vscode": {
   "interpreter": {
    "hash": "5d2a1d415023e810f4ea2e46877a40f9e0cb6e012f92ce94923d226885e25a9a"
   }
  }
 },
 "nbformat": 4,
 "nbformat_minor": 2
}
