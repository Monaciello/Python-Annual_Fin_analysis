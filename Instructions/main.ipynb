{
 "cells": [
  {
   "cell_type": "code",
   "execution_count": 1,
   "metadata": {},
   "outputs": [
    {
     "name": "stdout",
     "output_type": "stream",
     "text": [
      "\n",
      "Fianncial Analysis \n",
      "---------------------------\n",
      "Total Months 86\n",
      "Total: $38382578\n",
      "Average Change: $-2315.12\n",
      "Greatest Increase in Profits: ('Feb-2012', 1926159.0)\n",
      "Greatest Decrease in Profits:('Sep-2013', -2196167.0)\n",
      "Next line.. \n",
      "\n"
     ]
    }
   ],
   "source": [
    "#Tahgi Jones|Repo updated as of 9/22/2022|Rutger Fintech HW-02\n",
    "#A template code was used to model my code see below\n",
    "#referenced code https://github.com/joathanner/Python-Project/blob/master/main.py\n",
    "\n",
    "#init imports\n",
    "from pathlib import Path\n",
    "import csv\n",
    "import os\n",
    "\n",
    "#set path of the .csv\n",
    "budget_data_csv = os.path.join(\"PyBank/Resources/budget_data.csv\")\n",
    "\n",
    "output=\"output.txt\"\n",
    "\n",
    "#set variables\n",
    "all_mnths=0 \n",
    "all_rev=0\n",
    "rev = []\n",
    "prev_rev=0\n",
    "mnth_chg=[]\n",
    "rev_chg=0\n",
    "Back_to_earth = [\"\", 9999999]\n",
    "To_the_moon = [\"\", 0]\n",
    "rev_chg_list=[]\n",
    "rev_avg = 0\n",
    "\n",
    "#open the csv file\n",
    "with open (\"PyBank/Resources/budget_data.csv\") as csvfile:\n",
    "    csvreader= csv.DictReader(csvfile)\n",
    "\n",
    "    #Loop Through all months for a total\n",
    "    for row in csvreader:#loop starts here\n",
    "        #Initial count of months\n",
    "\n",
    "        #if initial pass through make null\n",
    "\n",
    "        #Calculate the average change in revenue for the entire period\n",
    "\n",
    "        if all_mnths!=0:\n",
    "            rev_chg = float(row[\"Profit/Losses\"])- prev_rev\n",
    "            rev_chg_list.append(rev_chg)\n",
    "        all_mnths+=1\n",
    "        #if all_mnths were not eual to 1 then we would have the below commented code. \n",
    "\n",
    "        #Calculate the total revenue\n",
    "\n",
    "        all_rev = all_rev + int(row[\"Profit/Losses\"])\n",
    "    \n",
    "#if initial pass through make null\n",
    "        #Calculate the average change in revenue for the entire period\n",
    " #       if all_mnths!=1:\n",
    " #           rev_chg = float(row[\"Profit/Losses\"])- prev_rev\n",
    " #           rev_chg_list.append(rev_chg)\n",
    "\n",
    "        prev_rev = float(row[\"Profit/Losses\"])\n",
    "        #The greatest increase in revenue (date and amount) over the entire period\n",
    "        if rev_chg>To_the_moon[1]:\n",
    "           To_the_moon[1]= rev_chg\n",
    "           To_the_moon[0] = row['Date']\n",
    "\n",
    "        #The greatest decrease in revenue (date and amount) over the entire period\n",
    "        if rev_chg < Back_to_earth[1]:\n",
    "            Back_to_earth[1]= rev_chg\n",
    "            Back_to_earth[0] = row['Date']\n",
    "    \n",
    "    rev_avg =sum(rev_chg_list)/len(rev_chg_list)\n",
    "\n",
    "#write changes to csv\n",
    "\n",
    "#save data output to output.txt to a file\n",
    "#generate output string\n",
    "output = f\"\"\"\n",
    "Fianncial Analysis \n",
    "---------------------------\n",
    "Total Months {all_mnths}\n",
    "Total: ${all_rev}\n",
    "Average Change: ${round(rev_avg,2)}\n",
    "Greatest Increase in Profits: {To_the_moon[0],To_the_moon[1]}\n",
    "Greatest Decrease in Profits:{Back_to_earth[0],Back_to_earth[1]}\n",
    "Next line.. \n",
    "\"\"\"\n",
    "with open (\"output.txt\", \"w\") as file: #this was move to assure we save the output\n",
    "    file.write(output)\n",
    "\n",
    "print(output)"
   ]
  },
  {
   "cell_type": "code",
   "execution_count": 2,
   "metadata": {},
   "outputs": [],
   "source": [
    "#Testing Cell\n"
   ]
  }
 ],
 "metadata": {
  "kernelspec": {
   "display_name": "Python 3.9.12 ('base')",
   "language": "python",
   "name": "python3"
  },
  "language_info": {
   "codemirror_mode": {
    "name": "ipython",
    "version": 3
   },
   "file_extension": ".py",
   "mimetype": "text/x-python",
   "name": "python",
   "nbconvert_exporter": "python",
   "pygments_lexer": "ipython3",
   "version": "3.9.12"
  },
  "orig_nbformat": 4,
  "vscode": {
   "interpreter": {
    "hash": "5d2a1d415023e810f4ea2e46877a40f9e0cb6e012f92ce94923d226885e25a9a"
   }
  }
 },
 "nbformat": 4,
 "nbformat_minor": 2
}
