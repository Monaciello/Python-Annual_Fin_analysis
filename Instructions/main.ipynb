{
 "cells": [
  {
   "cell_type": "code",
   "execution_count": 32,
   "metadata": {},
   "outputs": [
    {
     "ename": "TypeError",
     "evalue": "unsupported operand type(s) for /: 'builtin_function_or_method' and 'int'",
     "output_type": "error",
     "traceback": [
      "\u001b[1;31m---------------------------------------------------------------------------\u001b[0m",
      "\u001b[1;31mTypeError\u001b[0m                                 Traceback (most recent call last)",
      "\u001b[1;32mc:\\Users\\Temp\\Desktop\\Rutgers\\Rutgers-class\\python-hw\\Instructions\\main.ipynb Cell 1\u001b[0m in \u001b[0;36m<cell line: 24>\u001b[1;34m()\u001b[0m\n\u001b[0;32m     <a href='vscode-notebook-cell:/c%3A/Users/Temp/Desktop/Rutgers/Rutgers-class/python-hw/Instructions/main.ipynb#W0sZmlsZQ%3D%3D?line=45'>46</a>\u001b[0m             Back_to_earth[\u001b[39m1\u001b[39m]\u001b[39m=\u001b[39m rev_chg\n\u001b[0;32m     <a href='vscode-notebook-cell:/c%3A/Users/Temp/Desktop/Rutgers/Rutgers-class/python-hw/Instructions/main.ipynb#W0sZmlsZQ%3D%3D?line=46'>47</a>\u001b[0m             Back_to_earth[\u001b[39m0\u001b[39m] \u001b[39m=\u001b[39m row[\u001b[39m'\u001b[39m\u001b[39mDate\u001b[39m\u001b[39m'\u001b[39m]\n\u001b[1;32m---> <a href='vscode-notebook-cell:/c%3A/Users/Temp/Desktop/Rutgers/Rutgers-class/python-hw/Instructions/main.ipynb#W0sZmlsZQ%3D%3D?line=47'>48</a>\u001b[0m     rev_avg \u001b[39m=\u001b[39m \u001b[39msum\u001b[39;49m\u001b[39m/\u001b[39;49m\u001b[39mlen\u001b[39;49m(rev_chg_list)\n\u001b[0;32m     <a href='vscode-notebook-cell:/c%3A/Users/Temp/Desktop/Rutgers/Rutgers-class/python-hw/Instructions/main.ipynb#W0sZmlsZQ%3D%3D?line=50'>51</a>\u001b[0m \u001b[39m#write changes to csv\u001b[39;00m\n\u001b[0;32m     <a href='vscode-notebook-cell:/c%3A/Users/Temp/Desktop/Rutgers/Rutgers-class/python-hw/Instructions/main.ipynb#W0sZmlsZQ%3D%3D?line=51'>52</a>\u001b[0m \u001b[39mwith\u001b[39;00m \u001b[39mopen\u001b[39m (\u001b[39m\"\u001b[39m\u001b[39moutput.txt\u001b[39m\u001b[39m\"\u001b[39m, \u001b[39m\"\u001b[39m\u001b[39mw\u001b[39m\u001b[39m\"\u001b[39m) \u001b[39mas\u001b[39;00m file:\n",
      "\u001b[1;31mTypeError\u001b[0m: unsupported operand type(s) for /: 'builtin_function_or_method' and 'int'"
     ]
    }
   ],
   "source": [
    "#init imports\n",
    "from pathlib import Path\n",
    "import csv\n",
    "import os\n",
    "\n",
    "#set path of the .csv\n",
    "budget_data_csv = os.path.join(\"PyBank/Resources/budget_data.csv\")\n",
    "\n",
    "output=\"output.txt\"\n",
    "\n",
    "#set variables\n",
    "all_mnths=0 \n",
    "all_rev=0\n",
    "rev = []\n",
    "prev_rev=0\n",
    "mnth_chg=[]\n",
    "rev_chg=0\n",
    "Back_to_earth = [\"\", 9999999]\n",
    "To_the_moon = [\"\", 0]\n",
    "rev_chg_list=[]\n",
    "rev_avg = sum()\n",
    "\n",
    "#open the csv file\n",
    "with open (\"PyBank/Resources/budget_data.csv\") as csvfile:\n",
    "    csvreader= csv.DictReader(csvfile)\n",
    "\n",
    "    #Loop Through all months for a total\n",
    "    for row in csvreader:\n",
    "        #Initial count of months\n",
    "        all_mnths+=1\n",
    "        #Calculate the total revenue\n",
    "        all_rev = all_rev + int(row[\"Profit/Losses\"])\n",
    "\n",
    "        #Calculate the average change in revenue for the entire period\n",
    "        rev_chg = float(row[\"Profit/Losses\"])- prev_rev\n",
    "        prev_rev = float(row[\"Profit/Losses\"])\n",
    "        rev_chg_list = [mnth_chg]+[row[\"Date\"]]\n",
    "\n",
    "        #The greatest increase in revenue (date and amount) over the entire period\n",
    "        if rev_chg>To_the_moon[1]:\n",
    "           To_the_moon[1]= rev_chg\n",
    "           To_the_moon[0] = row['Date']\n",
    "\n",
    "        #The greatest decrease in revenue (date and amount) over the entire period\n",
    "        if rev_chg < Back_to_earth[1]:\n",
    "            Back_to_earth[1]= rev_chg\n",
    "            Back_to_earth[0] = row['Date']\n",
    "    rev_avg = sum(rev_chg_list)/len(rev_chg_list)\n",
    "\n",
    "\n",
    "#write changes to csv\n",
    "with open (\"output.txt\", \"w\") as file:\n",
    "    file.write(output)\n",
    "#save data output to output.txt to a file\n",
    "#generate output string\n",
    "output = f\"\"\"\n",
    "Fianncial Analysis \n",
    "---------------------------\n",
    "Total Months {all_mnths}\n",
    "Total: ${all_rev}\n",
    "Average Change: ${rev_avg}\n",
    "Greatest Increase in Profits: {To_the_moon[0],To_the_moon[1]}\n",
    "Greatest Decrease in Profits:{Back_to_earth[0],Back_to_earth[1]}\n",
    "Next line.. \n",
    "\"\"\"\n",
    "\n",
    "print(output)"
   ]
  },
  {
   "cell_type": "code",
   "execution_count": null,
   "metadata": {},
   "outputs": [],
   "source": []
  }
 ],
 "metadata": {
  "kernelspec": {
   "display_name": "Python 3.9.12 ('base')",
   "language": "python",
   "name": "python3"
  },
  "language_info": {
   "codemirror_mode": {
    "name": "ipython",
    "version": 3
   },
   "file_extension": ".py",
   "mimetype": "text/x-python",
   "name": "python",
   "nbconvert_exporter": "python",
   "pygments_lexer": "ipython3",
   "version": "3.9.12"
  },
  "orig_nbformat": 4,
  "vscode": {
   "interpreter": {
    "hash": "5d2a1d415023e810f4ea2e46877a40f9e0cb6e012f92ce94923d226885e25a9a"
   }
  }
 },
 "nbformat": 4,
 "nbformat_minor": 2
}
